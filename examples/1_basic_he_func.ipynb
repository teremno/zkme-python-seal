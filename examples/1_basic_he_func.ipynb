{
 "cells": [
  {
   "cell_type": "code",
   "execution_count": 1,
   "id": "initial_id",
   "metadata": {
    "collapsed": true,
    "ExecuteTime": {
     "end_time": "2023-09-13T10:59:13.500502Z",
     "start_time": "2023-09-13T10:59:13.288320Z"
    }
   },
   "outputs": [
    {
     "name": "stdout",
     "output_type": "stream",
     "text": [
      "64.0\n"
     ]
    }
   ],
   "source": [
    "# First, let's see the normal l2 distance calculation\n",
    "import numpy as np\n",
    "\n",
    "def l2_distance(x, y):\n",
    "    return np.sqrt(np.sum((x-y)**2))\n",
    "\n",
    "v1 = [1.] * 4096\n",
    "v2 = [2.] * 4096\n",
    "\n",
    "v1_np, v2_np = np.array(v1), np.array(v2)\n",
    "l2_dist = l2_distance(v1_np, v2_np)\n",
    "print(l2_dist)"
   ]
  },
  {
   "cell_type": "code",
   "execution_count": 2,
   "outputs": [
    {
     "name": "stdout",
     "output_type": "stream",
     "text": [
      "64.0\n"
     ]
    }
   ],
   "source": [
    "# Let's check from the high level API\n",
    "l2_dist = np.linalg.norm(v1_np - v2_np)\n",
    "print(l2_dist)"
   ],
   "metadata": {
    "collapsed": false,
    "ExecuteTime": {
     "end_time": "2023-09-13T10:59:13.531310Z",
     "start_time": "2023-09-13T10:59:13.506413Z"
    }
   },
   "id": "a9fe82bece3b3a83"
  },
  {
   "cell_type": "code",
   "execution_count": 3,
   "outputs": [
    {
     "name": "stdout",
     "output_type": "stream",
     "text": [
      "<seal.Ciphertext object at 0x1045b5ab0>\n",
      "<class 'seal.Ciphertext'>\n"
     ]
    }
   ],
   "source": [
    "# To see the basic encrypt and decrypt function of HECryptor\n",
    "from lib.HECryptor import HECryptor\n",
    "\n",
    "he_cryptor = HECryptor()\n",
    "v1_enc = he_cryptor.encrypt_data(v1)\n",
    "print(v1_enc)\n",
    "print(type(v1_enc))"
   ],
   "metadata": {
    "collapsed": false,
    "ExecuteTime": {
     "end_time": "2023-09-13T10:59:13.653270Z",
     "start_time": "2023-09-13T10:59:13.518009Z"
    }
   },
   "id": "95145aeb2d521375"
  },
  {
   "cell_type": "code",
   "execution_count": 4,
   "outputs": [
    {
     "name": "stdout",
     "output_type": "stream",
     "text": [
      "[1. 1. 1. ... 1. 1. 1.]\n"
     ]
    }
   ],
   "source": [
    "# Then try to decrypt it\n",
    "v1_dec = he_cryptor.decrypt_data(v1_enc)\n",
    "print(v1_dec)"
   ],
   "metadata": {
    "collapsed": false,
    "ExecuteTime": {
     "end_time": "2023-09-13T10:59:13.658807Z",
     "start_time": "2023-09-13T10:59:13.655913Z"
    }
   },
   "id": "5be9fb840f31b2b5"
  },
  {
   "cell_type": "code",
   "execution_count": 5,
   "outputs": [
    {
     "name": "stdout",
     "output_type": "stream",
     "text": [
      "<seal.Ciphertext object at 0x1045ab0f0>\n",
      "<class 'seal.Ciphertext'>\n"
     ]
    }
   ],
   "source": [
    "# So far so good, let's try to calculate the distance with encrypted data\n",
    "v2_enc = he_cryptor.encrypt_data(v2)\n",
    "l2_dist_enc = he_cryptor.cal_cipher_l2(v1_enc, v2_enc)\n",
    "print(l2_dist_enc)\n",
    "print(type(l2_dist_enc))"
   ],
   "metadata": {
    "collapsed": false,
    "ExecuteTime": {
     "end_time": "2023-09-13T10:59:13.705394Z",
     "start_time": "2023-09-13T10:59:13.666694Z"
    }
   },
   "id": "1ad0c6bef3b1e8d4"
  },
  {
   "cell_type": "code",
   "execution_count": 6,
   "outputs": [
    {
     "name": "stdout",
     "output_type": "stream",
     "text": [
      "64.00000000233292\n"
     ]
    }
   ],
   "source": [
    "# Let's try to decrypt the result to see if it is correct\n",
    "l2_dist_dec = he_cryptor.decrypt_data(l2_dist_enc)\n",
    "l2_dist_dec = l2_dist_dec[0] ** 0.5\n",
    "print(l2_dist_dec)"
   ],
   "metadata": {
    "collapsed": false,
    "ExecuteTime": {
     "end_time": "2023-09-13T10:59:13.705681Z",
     "start_time": "2023-09-13T10:59:13.687199Z"
    }
   },
   "id": "441a1fb9515a9929"
  },
  {
   "cell_type": "code",
   "execution_count": 7,
   "outputs": [
    {
     "name": "stdout",
     "output_type": "stream",
     "text": [
      "2.332924964321137e-09\n"
     ]
    }
   ],
   "source": [
    "# Check the difference between the decrypted result and the original result\n",
    "diff = l2_dist_dec - l2_dist\n",
    "print(diff)"
   ],
   "metadata": {
    "collapsed": false,
    "ExecuteTime": {
     "end_time": "2023-09-13T10:59:13.705799Z",
     "start_time": "2023-09-13T10:59:13.690557Z"
    }
   },
   "id": "9062198f47637ece"
  },
  {
   "cell_type": "code",
   "execution_count": 7,
   "outputs": [],
   "source": [],
   "metadata": {
    "collapsed": false,
    "ExecuteTime": {
     "end_time": "2023-09-13T10:59:13.705849Z",
     "start_time": "2023-09-13T10:59:13.692851Z"
    }
   },
   "id": "ddc7146382f8ba57"
  }
 ],
 "metadata": {
  "kernelspec": {
   "display_name": "Python 3",
   "language": "python",
   "name": "python3"
  },
  "language_info": {
   "codemirror_mode": {
    "name": "ipython",
    "version": 2
   },
   "file_extension": ".py",
   "mimetype": "text/x-python",
   "name": "python",
   "nbconvert_exporter": "python",
   "pygments_lexer": "ipython2",
   "version": "2.7.6"
  }
 },
 "nbformat": 4,
 "nbformat_minor": 5
}
